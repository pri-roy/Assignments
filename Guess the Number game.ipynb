{
 "cells": [
  {
   "cell_type": "code",
   "execution_count": 1,
   "metadata": {},
   "outputs": [
    {
     "name": "stdout",
     "output_type": "stream",
     "text": [
      "Welcome to 'guess the number' game!\n",
      "Too high! This is guess number 1. (Type 'No' to end program.)\n",
      "Too high! This is guess number 2. (Type 'No' to end program.)\n",
      "Too high! This is guess number 3. (Type 'No' to end program.)\n",
      "Too high! This is guess number 4. (Type 'No' to end program.)\n",
      "Good guess! Have a shot of vodka if you're +18. You got it on guess 5!\n"
     ]
    }
   ],
   "source": [
    "# first we import random to be able to use the random function\n",
    "import random\n",
    " \n",
    "# then we assign the random number within and including 1 to 10 \n",
    "guess_the_number = random.randint(1, 10)\n",
    " \n",
    "# initialise guess counter\n",
    "guess_count = 0\n",
    " \n",
    "# display welcome message to the user\n",
    "print(\"Welcome to 'guess the number' game!\")\n",
    " \n",
    "# we're using a while loop because we want the program to ask the user for an input while the conditions are true\n",
    "while True:\n",
    " \n",
    "# we're using a try statement because we need a valid input from the user\n",
    "# if the input is not valid then the try statement will trigger the except block on line 45\n",
    "    try:\n",
    " \n",
    "# taking an input from the user\n",
    "        user_input = input(\"Pick an integer between 1 and 10. (Type 'No' to end program.)\")\n",
    "# if the user wants to exit the program early   \n",
    "        if user_input == \"no\":\n",
    "             break\n",
    " \n",
    "# if the user gusses the number correctly the program            \n",
    "        elif int(user_input) == guess_the_number:\n",
    "# add 1 to the guess counter \n",
    "            guess_count += 1\n",
    "# print victory message to the user and also print guess count\n",
    "            print(f\"Good guess! Have a shot of vodka if you're +18. You got it on guess {guess_count}!\")\n",
    " \n",
    "# program breaks\n",
    "            break\n",
    "# check if the input is within our desired range\n",
    "        elif int(user_input) < 1 or int(user_input) > 10:\n",
    "            guess_count += 1\n",
    "# print a message to the user to try again or end the game if the user does not want to play\n",
    "            print(f\"please pick a number between 1 and 10. This is guess number {guess_count}. \\n (Given up? If you want to end the program enter 'No'.)\")\n",
    " \n",
    "# check if input number is greater than the guess number\n",
    "        elif int(user_input) > guess_the_number:\n",
    "            guess_count += 1\n",
    "# output when guess is too high\n",
    "            print(f\"Too high! This is guess number {guess_count}. (Type 'No' to end program.)\")\n",
    "# check if input number is less than the guess number           \n",
    "        elif int(user_input) < guess_the_number:\n",
    "            guess_count += 1\n",
    "# output when guess is too low\n",
    "            print(f\"Too low! This is guess number {guess_count}. (Type 'No' to end program.)\")\n",
    "\n",
    "# we're able to use this except statement because we used the try statement       \n",
    "    except ValueError:\n",
    "        print(\"Please pick a number between 1 to 10. (Type 'No' to end program.)\")"
   ]
  },
  {
   "cell_type": "code",
   "execution_count": null,
   "metadata": {},
   "outputs": [],
   "source": [
    "# Hello"
   ]
  }
 ],
 "metadata": {
  "kernelspec": {
   "display_name": "Python 3",
   "language": "python",
   "name": "python3"
  },
  "language_info": {
   "codemirror_mode": {
    "name": "ipython",
    "version": 3
   },
   "file_extension": ".py",
   "mimetype": "text/x-python",
   "name": "python",
   "nbconvert_exporter": "python",
   "pygments_lexer": "ipython3",
   "version": "3.13.1"
  }
 },
 "nbformat": 4,
 "nbformat_minor": 2
}
